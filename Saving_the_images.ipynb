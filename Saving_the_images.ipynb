{
 "cells": [
  {
   "cell_type": "markdown",
   "id": "9145b430",
   "metadata": {},
   "source": [
    "# Saving the images from the website locally "
   ]
  },
  {
   "cell_type": "markdown",
   "id": "7cc40948",
   "metadata": {},
   "source": [
    "To make the process faster, a function is created to easly save all images from the website locally on the user's computer. The function makes it possible to change the folder the images are saved and requires only the url from the source website."
   ]
  },
  {
   "cell_type": "code",
   "execution_count": null,
   "id": "d0d4d4eb",
   "metadata": {},
   "outputs": [],
   "source": [
    "import os\n",
    "import requests\n",
    "from bs4 import BeautifulSoup\n",
    "from urllib.parse import urljoin\n",
    "\n",
    "def save_images(url, folder_path):\n",
    "    if not os.path.exists(folder_path):\n",
    "        os.makedirs(folder_path)\n",
    "        \n",
    "    response = requests.get(url)\n",
    "    \n",
    "    soup = BeautifulSoup(response.text, 'html.parser')\n",
    "\n",
    "    img_tags = soup.find_all('img')\n",
    "\n",
    "    for img_tag in img_tags:\n",
    "        img_url = img_tag.get('src')\n",
    "        if img_url:\n",
    "    \n",
    "            img_url = urljoin(url, img_url)\n",
    "\n",
    "            img_response = requests.get(img_url)\n",
    "\n",
    "            img_name = os.path.basename(img_url)\n",
    "\n",
    "            with open(os.path.join(folder_path, img_name), 'wb') as f:\n",
    "                f.write(img_response.content)\n",
    "\n",
    "    print(\"Images saved successfully!\")\n"
   ]
  },
  {
   "cell_type": "code",
   "execution_count": 2,
   "id": "d70949ad",
   "metadata": {},
   "outputs": [
    {
     "name": "stdout",
     "output_type": "stream",
     "text": [
      "Images saved successfully!\n"
     ]
    }
   ],
   "source": [
    "folder_path = 'all_images'\n",
    "save_images('https://rofodia.oronk.hu/fenykeptar/az-egzotizalo-nepismeret/', folder_path)"
   ]
  },
  {
   "cell_type": "code",
   "execution_count": 3,
   "id": "a7953d17",
   "metadata": {},
   "outputs": [
    {
     "name": "stdout",
     "output_type": "stream",
     "text": [
      "Images saved successfully!\n"
     ]
    }
   ],
   "source": [
    "save_images('https://rofodia.oronk.hu/fenykeptar/magunk-valasztotta-kepek/', folder_path)"
   ]
  },
  {
   "cell_type": "code",
   "execution_count": 4,
   "id": "316f4710",
   "metadata": {},
   "outputs": [
    {
     "name": "stdout",
     "output_type": "stream",
     "text": [
      "Images saved successfully!\n"
     ]
    }
   ],
   "source": [
    "save_images('https://rofodia.oronk.hu/fenykeptar/cigany-zeneszek-portrei/', folder_path)"
   ]
  },
  {
   "cell_type": "code",
   "execution_count": 5,
   "id": "ca155a71",
   "metadata": {},
   "outputs": [
    {
     "name": "stdout",
     "output_type": "stream",
     "text": [
      "Images saved successfully!\n"
     ]
    }
   ],
   "source": [
    "save_images('https://rofodia.oronk.hu/fenykeptar/tiszaigari-mestersegek-bako-ferenc-felvetelei/', folder_path)"
   ]
  },
  {
   "cell_type": "code",
   "execution_count": 6,
   "id": "803f5047",
   "metadata": {},
   "outputs": [
    {
     "name": "stdout",
     "output_type": "stream",
     "text": [
      "Images saved successfully!\n"
     ]
    }
   ],
   "source": [
    "save_images('https://rofodia.oronk.hu/fenykeptar/szilacskosar-keszitese-kalo-karoly-es-racz-boldizsar-szendrolad-bozzi-vera-felvetelei/', folder_path)"
   ]
  },
  {
   "cell_type": "code",
   "execution_count": 7,
   "id": "01240770",
   "metadata": {},
   "outputs": [
    {
     "name": "stdout",
     "output_type": "stream",
     "text": [
      "Images saved successfully!\n"
     ]
    }
   ],
   "source": [
    "save_images('https://rofodia.oronk.hu/fenykeptar/koszorus-glonczi-istvan-hangony-ozd/', folder_path)"
   ]
  },
  {
   "cell_type": "code",
   "execution_count": 8,
   "id": "a68cedb2",
   "metadata": {},
   "outputs": [
    {
     "name": "stdout",
     "output_type": "stream",
     "text": [
      "Images saved successfully!\n"
     ]
    }
   ],
   "source": [
    "save_images('https://rofodia.oronk.hu/fenykeptar/libatepes-sajolad/', folder_path)"
   ]
  },
  {
   "cell_type": "code",
   "execution_count": 9,
   "id": "79b9ffa3",
   "metadata": {},
   "outputs": [
    {
     "name": "stdout",
     "output_type": "stream",
     "text": [
      "Images saved successfully!\n"
     ]
    }
   ],
   "source": [
    "save_images('https://rofodia.oronk.hu/fenykeptar/teglavetes-karcsa-becsked/', folder_path)"
   ]
  },
  {
   "cell_type": "code",
   "execution_count": 10,
   "id": "49e0b7ad",
   "metadata": {},
   "outputs": [
    {
     "name": "stdout",
     "output_type": "stream",
     "text": [
      "Images saved successfully!\n"
     ]
    }
   ],
   "source": [
    "save_images('https://rofodia.oronk.hu/fenykeptar/balogh-rudolf/', folder_path)"
   ]
  },
  {
   "cell_type": "code",
   "execution_count": 11,
   "id": "31bfc7ce",
   "metadata": {},
   "outputs": [
    {
     "name": "stdout",
     "output_type": "stream",
     "text": [
      "Images saved successfully!\n"
     ]
    }
   ],
   "source": [
    "save_images('https://rofodia.oronk.hu/fenykeptar/kankovszky-ervin/', folder_path)"
   ]
  },
  {
   "cell_type": "code",
   "execution_count": 12,
   "id": "2f7b6cae",
   "metadata": {},
   "outputs": [
    {
     "name": "stdout",
     "output_type": "stream",
     "text": [
      "Images saved successfully!\n"
     ]
    }
   ],
   "source": [
    "save_images('https://rofodia.oronk.hu/fenykeptar/redner-marta/', folder_path)"
   ]
  },
  {
   "cell_type": "code",
   "execution_count": 13,
   "id": "814be3b5",
   "metadata": {},
   "outputs": [
    {
     "name": "stdout",
     "output_type": "stream",
     "text": [
      "Images saved successfully!\n"
     ]
    }
   ],
   "source": [
    "save_images('https://rofodia.oronk.hu/fenykeptar/lakatos-vince/', folder_path)"
   ]
  },
  {
   "cell_type": "code",
   "execution_count": 14,
   "id": "5793fb81",
   "metadata": {},
   "outputs": [
    {
     "name": "stdout",
     "output_type": "stream",
     "text": [
      "Images saved successfully!\n"
     ]
    }
   ],
   "source": [
    "save_images('https://rofodia.oronk.hu/fenykeptar/fener-tamas/', folder_path)"
   ]
  },
  {
   "cell_type": "code",
   "execution_count": 15,
   "id": "6e754644",
   "metadata": {},
   "outputs": [
    {
     "name": "stdout",
     "output_type": "stream",
     "text": [
      "Images saved successfully!\n"
     ]
    }
   ],
   "source": [
    "save_images('https://rofodia.oronk.hu/fenykeptar/kresz-albert/', folder_path)"
   ]
  },
  {
   "cell_type": "code",
   "execution_count": 16,
   "id": "2afd30c8",
   "metadata": {},
   "outputs": [
    {
     "name": "stdout",
     "output_type": "stream",
     "text": [
      "Images saved successfully!\n"
     ]
    }
   ],
   "source": [
    "save_images('https://rofodia.oronk.hu/fenykeptar/revesz-tamas/', folder_path)"
   ]
  },
  {
   "cell_type": "code",
   "execution_count": 17,
   "id": "b5afb54a",
   "metadata": {},
   "outputs": [
    {
     "name": "stdout",
     "output_type": "stream",
     "text": [
      "Images saved successfully!\n"
     ]
    }
   ],
   "source": [
    "save_images('https://rofodia.oronk.hu/fenykeptar/hajtmanszky-zoltan/', folder_path)"
   ]
  },
  {
   "cell_type": "code",
   "execution_count": 20,
   "id": "8ca0aec8",
   "metadata": {},
   "outputs": [
    {
     "name": "stdout",
     "output_type": "stream",
     "text": [
      "Images saved successfully!\n"
     ]
    }
   ],
   "source": [
    "save_images('https://rofodia.oronk.hu/fenykeptar/horvath-david/', folder_path)"
   ]
  },
  {
   "cell_type": "code",
   "execution_count": 21,
   "id": "da53a313",
   "metadata": {},
   "outputs": [
    {
     "name": "stdout",
     "output_type": "stream",
     "text": [
      "Images saved successfully!\n"
     ]
    }
   ],
   "source": [
    "save_images('https://rofodia.oronk.hu/fenykeptar/stalter-gyorgy/', folder_path)"
   ]
  },
  {
   "cell_type": "code",
   "execution_count": 22,
   "id": "53d30de7",
   "metadata": {},
   "outputs": [
    {
     "name": "stdout",
     "output_type": "stream",
     "text": [
      "Images saved successfully!\n"
     ]
    }
   ],
   "source": [
    "save_images('https://rofodia.oronk.hu/fenykeptar/az-mti-jelenti/', folder_path)"
   ]
  },
  {
   "cell_type": "code",
   "execution_count": 23,
   "id": "63033945",
   "metadata": {},
   "outputs": [
    {
     "name": "stdout",
     "output_type": "stream",
     "text": [
      "Images saved successfully!\n"
     ]
    }
   ],
   "source": [
    "save_images('https://rofodia.oronk.hu/fenykeptar/ujpesti-csaladi-fotok-molnar-istvan-gabor-gyujtemenye/', folder_path)"
   ]
  },
  {
   "cell_type": "markdown",
   "id": "5a856675",
   "metadata": {},
   "source": [
    "After saving all the images, we also need to make sure there are no duplicates. In case of this website, all images were downloaded in 2 sizes, therefore the smaller images needed to be deleted to avoid the duplicates. The below function can be used to delete any group of pictures with a specific pattern, which can be adjusted to provide a more universal usage."
   ]
  },
  {
   "cell_type": "code",
   "execution_count": 24,
   "id": "c0edddbf",
   "metadata": {},
   "outputs": [
    {
     "name": "stdout",
     "output_type": "stream",
     "text": [
      "Deleted: all_images/RFD_1-3-1-04_REM_017-370x370.jpg\n",
      "Deleted: all_images/RFD_1-3-2-03_RET_038-370x370.jpg\n",
      "Deleted: all_images/RFD_1-6-04_UJP_046-370x370.jpg\n",
      "Deleted: all_images/RFD_1-2-2-02_BOZ_004-370x370.jpg\n",
      "Deleted: all_images/RFD_1-3-3-02_HOD_004-370x370.jpg\n",
      "Deleted: all_images/RFD_1-4_MTI_018-370x370.jpg\n",
      "Deleted: all_images/RFD_1-3-1-01_BAR_004-370x370.jpg\n",
      "Deleted: all_images/RFD_1-3-3-01_HAZ_031-370x370.jpg\n",
      "Deleted: all_images/RFD_1-6-04_UJP_036-370x370.jpg\n",
      "Deleted: all_images/RFD_1-1-03_CZP_034-370x370.jpg\n",
      "Deleted: all_images/RFD_1-6-04_UJP_068-370x370.jpg\n",
      "Deleted: all_images/RFD_1-3-1-03_LAV_008-370x370.jpg\n",
      "Deleted: all_images/RFD_1-3-2-03_RET_016-370x370.jpg\n",
      "Deleted: all_images/RFD_1-6-04_UJP_018-370x370.jpg\n",
      "Deleted: all_images/RFD_1-2-2-05_TEV_004-370x370.jpg\n",
      "Deleted: all_images/RFD_1-3-2-01_FET_012-370x370.jpg\n",
      "Deleted: all_images/RFD_1-1-01_EGZ_028-370x370.jpg\n",
      "Deleted: all_images/RFD_1-3-3-01_HAZ_003-370x370.jpg\n",
      "Deleted: all_images/RFD_1-1-03_CZP_006-370x370.jpg\n",
      "Deleted: all_images/RFD_1-6-04_UJP_004-370x370.jpg\n",
      "Deleted: all_images/RFD_1-3-3-03_SGY_003-370x370.jpg\n",
      "Deleted: all_images/RFD_1-3-1-03_LAV_014-370x370.jpg\n",
      "Deleted: all_images/RFD_1-3-1-02_KER_013-370x370.jpg\n",
      "Deleted: all_images/RFD_1-6-04_UJP_074-370x370.jpg\n",
      "Deleted: all_images/RFD_1-1-03_CZP_028-370x370.jpg\n",
      "Deleted: all_images/RFD_1-2-2-04_LIT_002-370x370.jpg\n",
      "Deleted: all_images/RFD_1-3-1-01_BAR_018-370x370.jpg\n",
      "Deleted: all_images/RFD_1-1-01_EGZ_006-370x370.jpg\n",
      "Deleted: all_images/RFD_1-2-2-02_BOZ_018-370x370.jpg\n",
      "Deleted: all_images/RFD_1-4_MTI_004-370x370.jpg\n",
      "Deleted: all_images/RFD_1-3-3-02_HOD_018-370x370.jpg\n",
      "Deleted: all_images/RFD_1-3-2-03_RET_024-370x370.jpg\n",
      "Deleted: all_images/RFD_1-2-2-01_BAK_016-370x370.jpg\n",
      "Deleted: all_images/RFD_1-3-2-03_RET_041-370x370.jpg\n",
      "Deleted: all_images/RFD_1-4_MTI_011-370x370.jpg\n",
      "Deleted: all_images/RFD_1-1-01_EGZ_013-370x370.jpg\n",
      "Deleted: all_images/RFD_1-2-2-03_GLP_001-370x370.jpg\n",
      "Deleted: all_images/RFD_1-3-2-03_RET_031-370x370.jpg\n",
      "Deleted: all_images/RFD_1-2-2-01_BAK_003-370x370.jpg\n",
      "Deleted: all_images/RFD_1-3-3-01_HAZ_016-370x370.jpg\n",
      "Deleted: all_images/RFD_1-1-03_CZP_013-370x370.jpg\n",
      "Deleted: all_images/RFD_1-6-04_UJP_011-370x370.jpg\n",
      "Deleted: all_images/RFD_1-3-3-03_SGY_016-370x370.jpg\n",
      "Deleted: all_images/RFD_1-3-1-02_KER_006-370x370.jpg\n",
      "Deleted: all_images/RFD_1-3-1-03_LAV_001-370x370.jpg\n",
      "Deleted: all_images/RFD_1-6-04_UJP_061-370x370.jpg\n",
      "Deleted: all_images/RFD_1-3-2-03_RET_003-370x370.jpg\n",
      "Deleted: all_images/RFD_1-6-04_UJP_080-370x370.jpg\n",
      "Deleted: all_images/RFD_1-3-2-02_KRA_007-370x370.jpg\n",
      "Deleted: all_images/RFD_1-2-2-05_TEV_011-370x370.jpg\n",
      "Deleted: all_images/RFD_1-4_MTI_023-370x370.jpg\n",
      "Deleted: all_images/RFD_1-3-2-01_FET_007-370x370.jpg\n",
      "Deleted: all_images/RFD_1-1-01_EGZ_021-370x370.jpg\n",
      "Deleted: all_images/RFD_1-3-3-03_SGY_024-370x370.jpg\n",
      "Deleted: all_images/RFD_1-3-1-04_REM_002-370x370.jpg\n",
      "Deleted: all_images/RFD_1-6-04_UJP_053-370x370.jpg\n",
      "Deleted: all_images/RFD_1-3-3-02_HOD_011-370x370.jpg\n",
      "Deleted: all_images/RFD_1-2-2-02_BOZ_011-370x370.jpg\n",
      "Deleted: all_images/RFD_1-3-3-01_HAZ_024-370x370.jpg\n",
      "Deleted: all_images/RFD_1-3-1-01_BAR_011-370x370.jpg\n",
      "Deleted: all_images/RFD_1-1-02_MVK_003-370x370.jpg\n",
      "Deleted: all_images/RFD_1-6-04_UJP_023-370x370.jpg\n",
      "Deleted: all_images/RFD_1-1-03_CZP_021-370x370.jpg\n",
      "Deleted: all_images/RFD_1-3-1-02_KER_003-370x370.jpg\n",
      "Deleted: all_images/RFD_1-3-1-03_LAV_004-370x370.jpg\n",
      "Deleted: all_images/RFD_1-6-04_UJP_064-370x370.jpg\n",
      "Deleted: all_images/RFD_1-3-3-03_SGY_013-370x370.jpg\n",
      "Deleted: all_images/RFD_1-2-2-05_TEV_008-370x370.jpg\n",
      "Deleted: all_images/RFD_1-6-04_UJP_014-370x370.jpg\n",
      "Deleted: all_images/RFD_1-1-03_CZP_016-370x370.jpg\n",
      "Deleted: all_images/RFD_1-3-3-01_HAZ_013-370x370.jpg\n",
      "Deleted: all_images/RFD_1-2-2-01_BAK_006-370x370.jpg\n",
      "Deleted: all_images/RFD_1-2-2-03_GLP_004-370x370.jpg\n",
      "Deleted: all_images/RFD_1-3-2-03_RET_034-370x370.jpg\n",
      "Deleted: all_images/RFD_1-3-1-01_BAR_008-370x370.jpg\n",
      "Deleted: all_images/RFD_1-3-3-02_HOD_008-370x370.jpg\n",
      "Deleted: all_images/RFD_1-4_MTI_014-370x370.jpg\n",
      "Deleted: all_images/RFD_1-2-2-02_BOZ_008-370x370.jpg\n",
      "Deleted: all_images/RFD_1-1-01_EGZ_016-370x370.jpg\n",
      "Deleted: all_images/RFD_1-1-03_CZP_038-370x370.jpg\n",
      "Deleted: all_images/RFD_1-2-2-04_LIT_012-370x370.jpg\n",
      "Deleted: all_images/RFD_1-3-2-03_RET_044-370x370.jpg\n",
      "Deleted: all_images/RFD_1-1-03_CZP_024-370x370.jpg\n",
      "Deleted: all_images/RFD_1-6-04_UJP_026-370x370.jpg\n",
      "Deleted: all_images/RFD_1-4_MTI_008-370x370.jpg\n",
      "Deleted: all_images/RFD_1-3-3-02_HOD_014-370x370.jpg\n",
      "Deleted: all_images/RFD_1-2-2-02_BOZ_014-370x370.jpg\n",
      "Deleted: all_images/RFD_1-1-02_MVK_006-370x370.jpg\n",
      "Deleted: all_images/RFD_1-3-3-01_HAZ_021-370x370.jpg\n",
      "Deleted: all_images/RFD_1-3-1-01_BAR_014-370x370.jpg\n",
      "Deleted: all_images/RFD_1-3-2-03_RET_028-370x370.jpg\n",
      "Deleted: all_images/RFD_1-3-1-04_REM_007-370x370.jpg\n",
      "Deleted: all_images/RFD_1-6-04_UJP_056-370x370.jpg\n",
      "Deleted: all_images/RFD_1-3-3-03_SGY_021-370x370.jpg\n",
      "Deleted: all_images/RFD_1-1-01_EGZ_024-370x370.jpg\n",
      "Deleted: all_images/RFD_1-3-2-01_FET_002-370x370.jpg\n",
      "Deleted: all_images/RFD_1-6-04_UJP_008-370x370.jpg\n",
      "Deleted: all_images/RFD_1-3-2-02_KRA_002-370x370.jpg\n",
      "Deleted: all_images/RFD_1-6-04_UJP_078-370x370.jpg\n",
      "Deleted: all_images/RFD_1-3-2-03_RET_006-370x370.jpg\n",
      "Deleted: all_images/RFD_1-3-1-03_LAV_018-370x370.jpg\n",
      "Deleted: all_images/RFD_1-1-01_EGZ_031-370x370.jpg\n",
      "Deleted: all_images/RFD_1-2-2-05_TEV_001-370x370.jpg\n",
      "Deleted: all_images/RFD_1-2-2-01_BAK_021-370x370.jpg\n",
      "Deleted: all_images/RFD_1-3-2-03_RET_013-370x370.jpg\n",
      "Deleted: all_images/RFD_1-1-03_CZP_031-370x370.jpg\n",
      "Deleted: all_images/RFD_1-6-04_UJP_033-370x370.jpg\n",
      "Deleted: all_images/RFD_1-2-2-02_BOZ_001-370x370.jpg\n",
      "Deleted: all_images/RFD_1-3-3-02_HOD_001-370x370.jpg\n",
      "Deleted: all_images/RFD_1-1-02_MVK_013-370x370.jpg\n",
      "Deleted: all_images/RFD_1-3-1-01_BAR_001-370x370.jpg\n",
      "Deleted: all_images/RFD_1-3-1-03_LAV_023-370x370.jpg\n",
      "Deleted: all_images/RFD_1-3-1-04_REM_012-370x370.jpg\n",
      "Deleted: all_images/RFD_1-6-04_UJP_043-370x370.jpg\n",
      "Deleted: all_images/RFD_1-3-3-03_SGY_028-370x370.jpg\n",
      "Deleted: all_images/RFD_1-2-2-01_BAK_013-370x370.jpg\n",
      "Deleted: all_images/RFD_1-3-2-03_RET_021-370x370.jpg\n",
      "Deleted: all_images/RFD_1-3-3-01_HAZ_028-370x370.jpg\n",
      "Deleted: all_images/RFD_1-1-01_EGZ_003-370x370.jpg\n",
      "Deleted: all_images/RFD_1-4_MTI_001-370x370.jpg\n",
      "Deleted: all_images/RFD_1-2-2-04_LIT_007-370x370.jpg\n",
      "Deleted: all_images/RFD_1-3-1-03_LAV_011-370x370.jpg\n",
      "Deleted: all_images/RFD_1-3-1-02_KER_016-370x370.jpg\n",
      "Deleted: all_images/RFD_1-3-1-04_REM_020-370x370.jpg\n",
      "Deleted: all_images/RFD_1-6-04_UJP_071-370x370.jpg\n",
      "Deleted: all_images/RFD_1-3-3-03_SGY_006-370x370.jpg\n",
      "Deleted: all_images/RFD_1-6-04_UJP_001-370x370.jpg\n",
      "Deleted: all_images/RFD_1-1-03_CZP_003-370x370.jpg\n",
      "Deleted: all_images/RFD_1-3-3-01_HAZ_006-370x370.jpg\n",
      "Deleted: all_images/RFD_1-3-3-03_SGY_005-370x370.jpg\n",
      "Deleted: all_images/RFD_1-3-2-02_KRA_008-370x370.jpg\n",
      "Deleted: all_images/RFD_1-6-04_UJP_072-370x370.jpg\n",
      "Deleted: all_images/RFD_1-3-1-03_LAV_012-370x370.jpg\n",
      "Deleted: all_images/RFD_1-3-1-02_KER_015-370x370.jpg\n",
      "Deleted: all_images/RFD_1-3-3-01_HAZ_005-370x370.jpg\n",
      "Deleted: all_images/RFD_1-3-2-01_FET_008-370x370.jpg\n",
      "Deleted: all_images/RFD_1-6-04_UJP_002-370x370.jpg\n",
      "Deleted: all_images/RFD_1-3-2-03_RET_022-370x370.jpg\n",
      "Deleted: all_images/RFD_1-2-2-01_BAK_010-370x370.jpg\n",
      "Deleted: all_images/RFD_1-2-2-04_LIT_004-370x370.jpg\n",
      "Deleted: all_images/RFD_1-4_MTI_002-370x370.jpg\n",
      "Deleted: all_images/RFD_1-3-1-01_BAR_002-370x370.jpg\n",
      "Deleted: all_images/RFD_1-1-02_MVK_010-370x370.jpg\n",
      "Deleted: all_images/RFD_1-2-2-02_BOZ_002-370x370.jpg\n",
      "Deleted: all_images/RFD_1-3-3-02_HOD_002-370x370.jpg\n",
      "Deleted: all_images/RFD_1-6-04_UJP_030-370x370.jpg\n",
      "Deleted: all_images/RFD_1-1-03_CZP_032-370x370.jpg\n",
      "Deleted: all_images/RFD_1-6-04_UJP_040-370x370.jpg\n",
      "Deleted: all_images/RFD_1-3-1-03_LAV_020-370x370.jpg\n",
      "Deleted: all_images/RFD_1-3-1-04_REM_011-370x370.jpg\n",
      "Deleted: all_images/RFD_1-2-2-05_TEV_002-370x370.jpg\n",
      "Deleted: all_images/RFD_1-3-3-01_HAZ_019-370x370.jpg\n",
      "Deleted: all_images/RFD_1-3-1-02_KER_009-370x370.jpg\n",
      "Deleted: all_images/RFD_1-3-2-03_RET_010-370x370.jpg\n",
      "Deleted: all_images/RFD_1-2-2-01_BAK_022-370x370.jpg\n",
      "Deleted: all_images/RFD_1-3-3-03_SGY_019-370x370.jpg\n",
      "Deleted: all_images/RFD_1-1-03_CZP_009-370x370.jpg\n",
      "Deleted: all_images/RFD_1-4_MTI_025-370x370.jpg\n",
      "Deleted: all_images/RFD_1-3-2-01_FET_001-370x370.jpg\n",
      "Deleted: all_images/RFD_1-1-01_EGZ_027-370x370.jpg\n",
      "Deleted: all_images/RFD_1-3-2-03_RET_005-370x370.jpg\n",
      "Deleted: all_images/RFD_1-3-2-02_KRA_001-370x370.jpg\n",
      "Deleted: all_images/RFD_1-3-3-01_HAZ_022-370x370.jpg\n",
      "Deleted: all_images/RFD_1-3-1-01_BAR_017-370x370.jpg\n",
      "Deleted: all_images/RFD_1-1-02_MVK_005-370x370.jpg\n",
      "Deleted: all_images/RFD_1-3-3-02_HOD_017-370x370.jpg\n",
      "Deleted: all_images/RFD_1-2-2-02_BOZ_017-370x370.jpg\n",
      "Deleted: all_images/RFD_1-1-01_EGZ_009-370x370.jpg\n",
      "Deleted: all_images/RFD_1-6-04_UJP_025-370x370.jpg\n",
      "Deleted: all_images/RFD_1-1-03_CZP_027-370x370.jpg\n",
      "Deleted: all_images/RFD_1-3-3-03_SGY_022-370x370.jpg\n",
      "Deleted: all_images/RFD_1-2-2-01_BAK_019-370x370.jpg\n",
      "Deleted: all_images/RFD_1-6-04_UJP_055-370x370.jpg\n",
      "Deleted: all_images/RFD_1-3-1-04_REM_004-370x370.jpg\n",
      "Deleted: all_images/RFD_1-3-1-04_REM_018-370x370.jpg\n",
      "Deleted: all_images/RFD_1-3-2-03_RET_037-370x370.jpg\n",
      "Deleted: all_images/RFD_1-6-04_UJP_049-370x370.jpg\n",
      "Deleted: all_images/RFD_1-2-2-01_BAK_005-370x370.jpg\n",
      "Deleted: all_images/RFD_1-2-2-04_LIT_011-370x370.jpg\n",
      "Deleted: all_images/RFD_1-3-2-03_RET_047-370x370.jpg\n",
      "Deleted: all_images/RFD_1-6-04_UJP_039-370x370.jpg\n",
      "Deleted: all_images/RFD_1-4_MTI_017-370x370.jpg\n",
      "Deleted: all_images/RFD_1-1-01_EGZ_015-370x370.jpg\n",
      "Deleted: all_images/RFD_1-3-3-03_SGY_010-370x370.jpg\n",
      "Deleted: all_images/RFD_1-6-04_UJP_067-370x370.jpg\n",
      "Deleted: all_images/RFD_1-3-2-03_RET_019-370x370.jpg\n",
      "Deleted: all_images/RFD_1-3-1-03_LAV_007-370x370.jpg\n",
      "Deleted: all_images/RFD_1-3-3-01_HAZ_010-370x370.jpg\n",
      "Deleted: all_images/RFD_1-1-03_CZP_015-370x370.jpg\n",
      "Deleted: all_images/RFD_1-6-04_UJP_017-370x370.jpg\n",
      "Deleted: all_images/RFD_1-6-04_UJP_050-370x370.jpg\n",
      "Deleted: all_images/RFD_1-3-1-04_REM_001-370x370.jpg\n",
      "Deleted: all_images/RFD_1-3-3-03_SGY_027-370x370.jpg\n",
      "Deleted: all_images/RFD_1-1-03_CZP_022-370x370.jpg\n",
      "Deleted: all_images/RFD_1-6-04_UJP_020-370x370.jpg\n",
      "Deleted: all_images/RFD_1-2-2-04_LIT_008-370x370.jpg\n",
      "Deleted: all_images/RFD_1-3-3-01_HAZ_027-370x370.jpg\n",
      "Deleted: all_images/RFD_1-3-1-01_BAR_012-370x370.jpg\n",
      "Deleted: all_images/RFD_1-3-3-02_HOD_012-370x370.jpg\n",
      "Deleted: all_images/RFD_1-2-2-02_BOZ_012-370x370.jpg\n",
      "Deleted: all_images/RFD_1-3-2-02_KRA_004-370x370.jpg\n",
      "Deleted: all_images/RFD_1-6-04_UJP_083-370x370.jpg\n",
      "Deleted: all_images/RFD_1-3-3-03_SGY_009-370x370.jpg\n",
      "Deleted: all_images/RFD_1-4_MTI_020-370x370.jpg\n",
      "Deleted: all_images/RFD_1-1-01_EGZ_022-370x370.jpg\n",
      "Deleted: all_images/RFD_1-3-2-01_FET_004-370x370.jpg\n",
      "Deleted: all_images/RFD_1-3-3-01_HAZ_009-370x370.jpg\n",
      "Deleted: all_images/RFD_1-2-2-05_TEV_012-370x370.jpg\n",
      "Deleted: all_images/RFD_1-6-04_UJP_012-370x370.jpg\n",
      "Deleted: all_images/RFD_1-1-03_CZP_010-370x370.jpg\n",
      "Deleted: all_images/RFD_1-3-3-01_HAZ_015-370x370.jpg\n",
      "Deleted: all_images/RFD_1-3-3-02_HOD_020-370x370.jpg\n",
      "Deleted: all_images/RFD_1-6-04_UJP_062-370x370.jpg\n",
      "Deleted: all_images/RFD_1-3-1-02_KER_005-370x370.jpg\n",
      "Deleted: all_images/RFD_1-3-1-03_LAV_002-370x370.jpg\n",
      "Deleted: all_images/RFD_1-3-3-03_SGY_015-370x370.jpg\n",
      "Deleted: all_images/RFD_1-4_MTI_012-370x370.jpg\n",
      "Deleted: all_images/RFD_1-1-01_EGZ_010-370x370.jpg\n",
      "Deleted: all_images/RFD_1-3-2-03_RET_042-370x370.jpg\n",
      "Deleted: all_images/RFD_1-3-2-03_RET_032-370x370.jpg\n",
      "Deleted: all_images/RFD_1-2-2-03_GLP_002-370x370.jpg\n",
      "Deleted: all_images/RFD_1-1-01_EGZ_005-370x370.jpg\n",
      "Deleted: all_images/RFD_1-4_MTI_007-370x370.jpg\n",
      "Deleted: all_images/RFD_1-1-02_MVK_009-370x370.jpg\n",
      "Deleted: all_images/RFD_1-2-2-04_LIT_001-370x370.jpg\n",
      "Deleted: all_images/RFD_1-6-04_UJP_029-370x370.jpg\n",
      "Deleted: all_images/RFD_1-2-2-01_BAK_015-370x370.jpg\n",
      "Deleted: all_images/RFD_1-3-2-03_RET_027-370x370.jpg\n",
      "Deleted: all_images/RFD_1-3-1-04_REM_008-370x370.jpg\n",
      "Deleted: all_images/RFD_1-6-04_UJP_059-370x370.jpg\n",
      "Deleted: all_images/RFD_1-6-04_UJP_007-370x370.jpg\n",
      "Deleted: all_images/RFD_1-1-03_CZP_005-370x370.jpg\n",
      "Deleted: all_images/RFD_1-6-04_UJP_077-370x370.jpg\n",
      "Deleted: all_images/RFD_1-3-1-03_LAV_017-370x370.jpg\n",
      "Deleted: all_images/RFD_1-3-1-02_KER_010-370x370.jpg\n",
      "Deleted: all_images/RFD_1-3-2-03_RET_009-370x370.jpg\n",
      "Deleted: all_images/RFD_1-3-2-03_RET_015-370x370.jpg\n",
      "Deleted: all_images/RFD_1-3-2-01_FET_011-370x370.jpg\n",
      "Deleted: all_images/RFD_1-1-03_CZP_019-370x370.jpg\n",
      "Deleted: all_images/RFD_1-2-2-05_TEV_007-370x370.jpg\n",
      "Deleted: all_images/RFD_1-6-04_UJP_045-370x370.jpg\n",
      "Deleted: all_images/RFD_1-3-1-03_LAV_025-370x370.jpg\n",
      "Deleted: all_images/RFD_1-3-1-04_REM_014-370x370.jpg\n",
      "Deleted: all_images/RFD_1-2-2-01_BAK_009-370x370.jpg\n",
      "Deleted: all_images/RFD_1-1-03_CZP_037-370x370.jpg\n",
      "Deleted: all_images/RFD_1-6-04_UJP_035-370x370.jpg\n",
      "Deleted: all_images/RFD_1-3-1-01_BAR_007-370x370.jpg\n",
      "Deleted: all_images/RFD_1-3-3-01_HAZ_032-370x370.jpg\n",
      "Deleted: all_images/RFD_1-1-01_EGZ_019-370x370.jpg\n",
      "Deleted: all_images/RFD_1-2-2-02_BOZ_007-370x370.jpg\n",
      "Deleted: all_images/RFD_1-3-3-02_HOD_007-370x370.jpg\n",
      "Deleted: all_images/RFD_1-2-2-04_LIT_006-370x370.jpg\n",
      "Deleted: all_images/RFD_1-1-01_EGZ_002-370x370.jpg\n",
      "Deleted: all_images/RFD_1-3-3-01_HAZ_029-370x370.jpg\n",
      "Deleted: all_images/RFD_1-3-2-03_RET_020-370x370.jpg\n",
      "Deleted: all_images/RFD_1-2-2-01_BAK_012-370x370.jpg\n",
      "Deleted: all_images/RFD_1-3-3-01_HAZ_007-370x370.jpg\n",
      "Deleted: all_images/RFD_1-1-03_CZP_002-370x370.jpg\n",
      "Deleted: all_images/RFD_1-3-3-03_SGY_007-370x370.jpg\n",
      "Deleted: all_images/RFD_1-6-04_UJP_070-370x370.jpg\n",
      "Deleted: all_images/RFD_1-3-1-02_KER_017-370x370.jpg\n",
      "Deleted: all_images/RFD_1-3-1-03_LAV_010-370x370.jpg\n",
      "Deleted: all_images/RFD_1-3-2-03_RET_012-370x370.jpg\n",
      "Deleted: all_images/RFD_1-2-2-01_BAK_020-370x370.jpg\n",
      "Deleted: all_images/RFD_1-1-01_EGZ_030-370x370.jpg\n",
      "Deleted: all_images/RFD_1-6-04_UJP_042-370x370.jpg\n",
      "Deleted: all_images/RFD_1-1-03_CZP_040-370x370.jpg\n",
      "Deleted: all_images/RFD_1-3-1-04_REM_013-370x370.jpg\n",
      "Deleted: all_images/RFD_1-3-1-03_LAV_022-370x370.jpg\n",
      "Deleted: all_images/RFD_1-1-02_MVK_012-370x370.jpg\n",
      "Deleted: all_images/RFD_1-1-03_CZP_030-370x370.jpg\n",
      "Deleted: all_images/RFD_1-6-04_UJP_032-370x370.jpg\n",
      "Deleted: all_images/RFD_1-3-3-03_SGY_020-370x370.jpg\n",
      "Deleted: all_images/RFD_1-6-04_UJP_057-370x370.jpg\n",
      "Deleted: all_images/RFD_1-3-2-03_RET_029-370x370.jpg\n",
      "Deleted: all_images/RFD_1-3-1-04_REM_006-370x370.jpg\n",
      "Deleted: all_images/RFD_1-1-02_MVK_007-370x370.jpg\n",
      "Deleted: all_images/RFD_1-3-1-01_BAR_015-370x370.jpg\n",
      "Deleted: all_images/RFD_1-3-3-01_HAZ_020-370x370.jpg\n",
      "Deleted: all_images/RFD_1-2-2-02_BOZ_015-370x370.jpg\n",
      "Deleted: all_images/RFD_1-4_MTI_009-370x370.jpg\n",
      "Deleted: all_images/RFD_1-3-3-02_HOD_015-370x370.jpg\n"
     ]
    },
    {
     "name": "stdout",
     "output_type": "stream",
     "text": [
      "Deleted: all_images/RFD_1-1-03_CZP_025-370x370.jpg\n",
      "Deleted: all_images/RFD_1-6-04_UJP_027-370x370.jpg\n",
      "Deleted: all_images/RFD_1-3-1-03_LAV_019-370x370.jpg\n",
      "Deleted: all_images/RFD_1-3-2-03_RET_007-370x370.jpg\n",
      "Deleted: all_images/RFD_1-6-04_UJP_079-370x370.jpg\n",
      "Deleted: all_images/RFD_1-3-2-02_KRA_003-370x370.jpg\n",
      "Deleted: all_images/RFD_1-6-04_UJP_009-370x370.jpg\n",
      "Deleted: all_images/RFD_1-1-01_EGZ_025-370x370.jpg\n",
      "Deleted: all_images/RFD_1-3-2-01_FET_003-370x370.jpg\n",
      "Deleted: all_images/RFD_1-3-3-01_HAZ_012-370x370.jpg\n",
      "Deleted: all_images/RFD_1-6-04_UJP_015-370x370.jpg\n",
      "Deleted: all_images/RFD_1-1-03_CZP_017-370x370.jpg\n",
      "Deleted: all_images/RFD_1-2-2-05_TEV_009-370x370.jpg\n",
      "Deleted: all_images/RFD_1-3-3-03_SGY_012-370x370.jpg\n",
      "Deleted: all_images/RFD_1-6-04_UJP_065-370x370.jpg\n",
      "Deleted: all_images/RFD_1-3-1-03_LAV_005-370x370.jpg\n",
      "Deleted: all_images/RFD_1-3-1-02_KER_002-370x370.jpg\n",
      "Deleted: all_images/RFD_1-3-2-03_RET_045-370x370.jpg\n",
      "Deleted: all_images/RFD_1-1-03_CZP_039-370x370.jpg\n",
      "Deleted: all_images/RFD_1-2-2-02_BOZ_009-370x370.jpg\n",
      "Deleted: all_images/RFD_1-1-01_EGZ_017-370x370.jpg\n",
      "Deleted: all_images/RFD_1-3-3-02_HOD_009-370x370.jpg\n",
      "Deleted: all_images/RFD_1-4_MTI_015-370x370.jpg\n",
      "Deleted: all_images/RFD_1-3-1-01_BAR_009-370x370.jpg\n",
      "Deleted: all_images/RFD_1-3-2-03_RET_035-370x370.jpg\n",
      "Deleted: all_images/RFD_1-2-2-03_GLP_005-370x370.jpg\n",
      "Deleted: all_images/RFD_1-2-2-01_BAK_007-370x370.jpg\n",
      "Deleted: all_images/RFD_1-3-2-01_FET_006-370x370.jpg\n",
      "Deleted: all_images/RFD_1-1-01_EGZ_020-370x370.jpg\n",
      "Deleted: all_images/RFD_1-4_MTI_022-370x370.jpg\n",
      "Deleted: all_images/RFD_1-2-2-05_TEV_010-370x370.jpg\n",
      "Deleted: all_images/RFD_1-6-04_UJP_081-370x370.jpg\n",
      "Deleted: all_images/RFD_1-3-2-02_KRA_006-370x370.jpg\n",
      "Deleted: all_images/RFD_1-3-2-03_RET_002-370x370.jpg\n",
      "Deleted: all_images/RFD_1-6-04_UJP_022-370x370.jpg\n",
      "Deleted: all_images/RFD_1-1-03_CZP_020-370x370.jpg\n",
      "Deleted: all_images/RFD_1-3-1-01_BAR_010-370x370.jpg\n",
      "Deleted: all_images/RFD_1-3-3-01_HAZ_025-370x370.jpg\n",
      "Deleted: all_images/RFD_1-1-02_MVK_002-370x370.jpg\n",
      "Deleted: all_images/RFD_1-2-2-02_BOZ_010-370x370.jpg\n",
      "Deleted: all_images/RFD_1-3-3-02_HOD_010-370x370.jpg\n",
      "Deleted: all_images/RFD_1-6-04_UJP_052-370x370.jpg\n",
      "Deleted: all_images/RFD_1-3-1-04_REM_003-370x370.jpg\n",
      "Deleted: all_images/RFD_1-3-3-03_SGY_025-370x370.jpg\n",
      "Deleted: all_images/RFD_1-2-2-01_BAK_002-370x370.jpg\n",
      "Deleted: all_images/RFD_1-3-2-03_RET_030-370x370.jpg\n",
      "Deleted: all_images/RFD_1-1-01_EGZ_012-370x370.jpg\n",
      "Deleted: all_images/RFD_1-4_MTI_010-370x370.jpg\n",
      "Deleted: all_images/RFD_1-3-2-03_RET_040-370x370.jpg\n",
      "Deleted: all_images/RFD_1-6-04_UJP_060-370x370.jpg\n",
      "Deleted: all_images/RFD_1-3-1-02_KER_007-370x370.jpg\n",
      "Deleted: all_images/RFD_1-3-3-03_SGY_017-370x370.jpg\n",
      "Deleted: all_images/RFD_1-1-03_CZP_012-370x370.jpg\n",
      "Deleted: all_images/RFD_1-6-04_UJP_010-370x370.jpg\n",
      "Deleted: all_images/RFD_1-3-3-01_HAZ_017-370x370.jpg\n",
      "Deleted: all_images/RFD_1-6-04_UJP_075-370x370.jpg\n",
      "Deleted: all_images/RFD_1-3-1-02_KER_012-370x370.jpg\n",
      "Deleted: all_images/RFD_1-3-1-03_LAV_015-370x370.jpg\n",
      "Deleted: all_images/RFD_1-3-3-03_SGY_002-370x370.jpg\n",
      "Deleted: all_images/RFD_1-1-03_CZP_007-370x370.jpg\n",
      "Deleted: all_images/RFD_1-6-04_UJP_005-370x370.jpg\n",
      "Deleted: all_images/RFD_1-3-3-01_HAZ_002-370x370.jpg\n",
      "Deleted: all_images/RFD_1-1-01_EGZ_029-370x370.jpg\n",
      "Deleted: all_images/RFD_1-2-2-01_BAK_017-370x370.jpg\n",
      "Deleted: all_images/RFD_1-3-2-03_RET_025-370x370.jpg\n",
      "Deleted: all_images/RFD_1-4_MTI_005-370x370.jpg\n",
      "Deleted: all_images/RFD_1-3-3-02_HOD_019-370x370.jpg\n",
      "Deleted: all_images/RFD_1-1-01_EGZ_007-370x370.jpg\n",
      "Deleted: all_images/RFD_1-2-2-04_LIT_003-370x370.jpg\n",
      "Deleted: all_images/RFD_1-1-03_CZP_029-370x370.jpg\n",
      "Deleted: all_images/RFD_1-6-04_UJP_037-370x370.jpg\n",
      "Deleted: all_images/RFD_1-1-03_CZP_035-370x370.jpg\n",
      "Deleted: all_images/RFD_1-3-3-01_HAZ_030-370x370.jpg\n",
      "Deleted: all_images/RFD_1-3-1-01_BAR_005-370x370.jpg\n",
      "Deleted: all_images/RFD_1-3-3-02_HOD_005-370x370.jpg\n",
      "Deleted: all_images/RFD_1-4_MTI_019-370x370.jpg\n",
      "Deleted: all_images/RFD_1-2-2-02_BOZ_005-370x370.jpg\n",
      "Deleted: all_images/RFD_1-6-04_UJP_047-370x370.jpg\n",
      "Deleted: all_images/RFD_1-3-1-04_REM_016-370x370.jpg\n",
      "Deleted: all_images/RFD_1-3-2-03_RET_039-370x370.jpg\n",
      "Deleted: all_images/RFD_1-3-2-01_FET_013-370x370.jpg\n",
      "Deleted: all_images/RFD_1-2-2-05_TEV_005-370x370.jpg\n",
      "Deleted: all_images/RFD_1-6-04_UJP_019-370x370.jpg\n",
      "Deleted: all_images/RFD_1-3-2-03_RET_017-370x370.jpg\n",
      "Deleted: all_images/RFD_1-3-1-03_LAV_009-370x370.jpg\n",
      "Deleted: all_images/RFD_1-6-04_UJP_069-370x370.jpg\n",
      "Deleted: all_images/RFD_1-2-2-05_TEV_006-370x370.jpg\n",
      "Deleted: all_images/RFD_1-1-03_CZP_018-370x370.jpg\n",
      "Deleted: all_images/RFD_1-3-2-01_FET_010-370x370.jpg\n",
      "Deleted: all_images/RFD_1-3-2-03_RET_014-370x370.jpg\n",
      "Deleted: all_images/RFD_1-3-2-02_KRA_010-370x370.jpg\n",
      "Deleted: all_images/RFD_1-3-3-02_HOD_006-370x370.jpg\n",
      "Deleted: all_images/RFD_1-1-01_EGZ_018-370x370.jpg\n",
      "Deleted: all_images/RFD_1-2-2-02_BOZ_006-370x370.jpg\n",
      "Deleted: all_images/RFD_1-1-02_MVK_014-370x370.jpg\n",
      "Deleted: all_images/RFD_1-3-3-01_HAZ_033-370x370.jpg\n",
      "Deleted: all_images/RFD_1-3-1-01_BAR_006-370x370.jpg\n",
      "Deleted: all_images/RFD_1-1-03_CZP_036-370x370.jpg\n",
      "Deleted: all_images/RFD_1-6-04_UJP_034-370x370.jpg\n",
      "Deleted: all_images/RFD_1-2-2-01_BAK_008-370x370.jpg\n",
      "Deleted: all_images/RFD_1-3-1-04_REM_015-370x370.jpg\n",
      "Deleted: all_images/RFD_1-3-1-03_LAV_024-370x370.jpg\n",
      "Deleted: all_images/RFD_1-6-04_UJP_044-370x370.jpg\n",
      "Deleted: all_images/RFD_1-6-04_UJP_058-370x370.jpg\n",
      "Deleted: all_images/RFD_1-3-2-03_RET_026-370x370.jpg\n",
      "Deleted: all_images/RFD_1-3-1-04_REM_009-370x370.jpg\n",
      "Deleted: all_images/RFD_1-2-2-01_BAK_014-370x370.jpg\n",
      "Deleted: all_images/RFD_1-6-04_UJP_028-370x370.jpg\n",
      "Deleted: all_images/RFD_1-1-02_MVK_008-370x370.jpg\n",
      "Deleted: all_images/RFD_1-4_MTI_006-370x370.jpg\n",
      "Deleted: all_images/RFD_1-1-01_EGZ_004-370x370.jpg\n",
      "Deleted: all_images/RFD_1-3-3-03_SGY_001-370x370.jpg\n",
      "Deleted: all_images/RFD_1-3-2-03_RET_008-370x370.jpg\n",
      "Deleted: all_images/RFD_1-3-1-02_KER_011-370x370.jpg\n",
      "Deleted: all_images/RFD_1-3-1-03_LAV_016-370x370.jpg\n",
      "Deleted: all_images/RFD_1-6-04_UJP_076-370x370.jpg\n",
      "Deleted: all_images/RFD_1-3-3-01_HAZ_001-370x370.jpg\n",
      "Deleted: all_images/RFD_1-6-04_UJP_006-370x370.jpg\n",
      "Deleted: all_images/RFD_1-1-03_CZP_004-370x370.jpg\n",
      "Deleted: all_images/RFD_1-3-3-03_SGY_014-370x370.jpg\n",
      "Deleted: all_images/RFD_1-3-1-03_LAV_003-370x370.jpg\n",
      "Deleted: all_images/RFD_1-3-1-02_KER_004-370x370.jpg\n",
      "Deleted: all_images/RFD_1-6-04_UJP_063-370x370.jpg\n",
      "Deleted: all_images/RFD_1-3-3-02_HOD_021-370x370.jpg\n",
      "Deleted: all_images/RFD_1-3-3-01_HAZ_014-370x370.jpg\n",
      "Deleted: all_images/RFD_1-6-04_UJP_013-370x370.jpg\n",
      "Deleted: all_images/RFD_1-1-03_CZP_011-370x370.jpg\n",
      "Deleted: all_images/RFD_1-2-2-03_GLP_003-370x370.jpg\n",
      "Deleted: all_images/RFD_1-3-2-03_RET_033-370x370.jpg\n",
      "Deleted: all_images/RFD_1-2-2-01_BAK_001-370x370.jpg\n",
      "Deleted: all_images/RFD_1-3-2-03_RET_043-370x370.jpg\n",
      "Deleted: all_images/RFD_1-1-01_EGZ_011-370x370.jpg\n",
      "Deleted: all_images/RFD_1-4_MTI_013-370x370.jpg\n",
      "Deleted: all_images/RFD_1-2-2-02_BOZ_013-370x370.jpg\n",
      "Deleted: all_images/RFD_1-3-3-02_HOD_013-370x370.jpg\n",
      "Deleted: all_images/RFD_1-1-02_MVK_001-370x370.jpg\n",
      "Deleted: all_images/RFD_1-3-1-01_BAR_013-370x370.jpg\n",
      "Deleted: all_images/RFD_1-3-3-01_HAZ_026-370x370.jpg\n",
      "Deleted: all_images/RFD_1-2-2-04_LIT_009-370x370.jpg\n",
      "Deleted: all_images/RFD_1-1-03_CZP_023-370x370.jpg\n",
      "Deleted: all_images/RFD_1-6-04_UJP_021-370x370.jpg\n",
      "Deleted: all_images/RFD_1-3-3-03_SGY_026-370x370.jpg\n",
      "Deleted: all_images/RFD_1-6-04_UJP_051-370x370.jpg\n",
      "Deleted: all_images/RFD_1-3-3-01_HAZ_008-370x370.jpg\n",
      "Deleted: all_images/RFD_1-1-01_EGZ_023-370x370.jpg\n",
      "Deleted: all_images/RFD_1-3-2-01_FET_005-370x370.jpg\n",
      "Deleted: all_images/RFD_1-4_MTI_021-370x370.jpg\n",
      "Deleted: all_images/RFD_1-3-2-03_RET_001-370x370.jpg\n",
      "Deleted: all_images/RFD_1-3-3-03_SGY_008-370x370.jpg\n",
      "Deleted: all_images/RFD_1-3-2-02_KRA_005-370x370.jpg\n",
      "Deleted: all_images/RFD_1-6-04_UJP_082-370x370.jpg\n",
      "Deleted: all_images/RFD_1-1-01_EGZ_014-370x370.jpg\n",
      "Deleted: all_images/RFD_1-4_MTI_016-370x370.jpg\n",
      "Deleted: all_images/RFD_1-6-04_UJP_038-370x370.jpg\n",
      "Deleted: all_images/RFD_1-3-2-03_RET_046-370x370.jpg\n",
      "Deleted: all_images/RFD_1-2-2-04_LIT_010-370x370.jpg\n",
      "Deleted: all_images/RFD_1-2-2-01_BAK_004-370x370.jpg\n",
      "Deleted: all_images/RFD_1-6-04_UJP_048-370x370.jpg\n",
      "Deleted: all_images/RFD_1-2-2-03_GLP_006-370x370.jpg\n",
      "Deleted: all_images/RFD_1-3-1-04_REM_019-370x370.jpg\n",
      "Deleted: all_images/RFD_1-3-2-03_RET_036-370x370.jpg\n",
      "Deleted: all_images/RFD_1-1-03_CZP_014-370x370.jpg\n",
      "Deleted: all_images/RFD_1-6-04_UJP_016-370x370.jpg\n",
      "Deleted: all_images/RFD_1-3-3-01_HAZ_011-370x370.jpg\n",
      "Deleted: all_images/RFD_1-3-1-03_LAV_006-370x370.jpg\n",
      "Deleted: all_images/RFD_1-3-1-02_KER_001-370x370.jpg\n",
      "Deleted: all_images/RFD_1-3-2-03_RET_018-370x370.jpg\n",
      "Deleted: all_images/RFD_1-6-04_UJP_066-370x370.jpg\n",
      "Deleted: all_images/RFD_1-3-3-03_SGY_011-370x370.jpg\n",
      "Deleted: all_images/RFD_1-3-2-03_RET_004-370x370.jpg\n",
      "Deleted: all_images/RFD_1-1-01_EGZ_026-370x370.jpg\n",
      "Deleted: all_images/RFD_1-4_MTI_024-370x370.jpg\n",
      "Deleted: all_images/RFD_1-1-03_CZP_008-370x370.jpg\n",
      "Deleted: all_images/RFD_1-3-1-04_REM_005-370x370.jpg\n",
      "Deleted: all_images/RFD_1-6-04_UJP_054-370x370.jpg\n",
      "Deleted: all_images/RFD_1-2-2-01_BAK_018-370x370.jpg\n",
      "Deleted: all_images/RFD_1-3-3-03_SGY_023-370x370.jpg\n",
      "Deleted: all_images/RFD_1-6-04_UJP_024-370x370.jpg\n",
      "Deleted: all_images/RFD_1-1-03_CZP_026-370x370.jpg\n",
      "Deleted: all_images/RFD_1-2-2-02_BOZ_016-370x370.jpg\n",
      "Deleted: all_images/RFD_1-1-01_EGZ_008-370x370.jpg\n",
      "Deleted: all_images/RFD_1-3-3-02_HOD_016-370x370.jpg\n",
      "Deleted: all_images/RFD_1-3-1-01_BAR_016-370x370.jpg\n",
      "Deleted: all_images/RFD_1-3-3-01_HAZ_023-370x370.jpg\n",
      "Deleted: all_images/RFD_1-1-02_MVK_004-370x370.jpg\n",
      "Deleted: all_images/RFD_1-3-1-04_REM_010-370x370.jpg\n",
      "Deleted: all_images/RFD_1-3-1-03_LAV_021-370x370.jpg\n",
      "Deleted: all_images/RFD_1-6-04_UJP_041-370x370.jpg\n",
      "Deleted: all_images/RFD_1-6-04_UJP_031-370x370.jpg\n",
      "Deleted: all_images/RFD_1-1-03_CZP_033-370x370.jpg\n",
      "Deleted: all_images/RFD_1-3-3-02_HOD_003-370x370.jpg\n",
      "Deleted: all_images/RFD_1-2-2-02_BOZ_003-370x370.jpg\n",
      "Deleted: all_images/RFD_1-3-1-01_BAR_003-370x370.jpg\n",
      "Deleted: all_images/RFD_1-1-02_MVK_011-370x370.jpg\n",
      "Deleted: all_images/RFD_1-3-3-03_SGY_018-370x370.jpg\n",
      "Deleted: all_images/RFD_1-3-2-03_RET_011-370x370.jpg\n",
      "Deleted: all_images/RFD_1-3-1-02_KER_008-370x370.jpg\n",
      "Deleted: all_images/RFD_1-3-3-01_HAZ_018-370x370.jpg\n",
      "Deleted: all_images/RFD_1-2-2-05_TEV_003-370x370.jpg\n",
      "Deleted: all_images/RFD_1-1-03_CZP_001-370x370.jpg\n",
      "Deleted: all_images/RFD_1-6-04_UJP_003-370x370.jpg\n",
      "Deleted: all_images/RFD_1-3-2-01_FET_009-370x370.jpg\n",
      "Deleted: all_images/RFD_1-3-3-01_HAZ_004-370x370.jpg\n",
      "Deleted: all_images/RFD_1-3-1-02_KER_014-370x370.jpg\n",
      "Deleted: all_images/RFD_1-3-1-03_LAV_013-370x370.jpg\n",
      "Deleted: all_images/RFD_1-6-04_UJP_073-370x370.jpg\n",
      "Deleted: all_images/RFD_1-3-2-02_KRA_009-370x370.jpg\n",
      "Deleted: all_images/RFD_1-3-3-03_SGY_004-370x370.jpg\n",
      "Deleted: all_images/RFD_1-4_MTI_003-370x370.jpg\n",
      "Deleted: all_images/RFD_1-1-01_EGZ_001-370x370.jpg\n",
      "Deleted: all_images/RFD_1-2-2-04_LIT_005-370x370.jpg\n",
      "Deleted: all_images/RFD_1-2-2-01_BAK_011-370x370.jpg\n",
      "Deleted: all_images/RFD_1-3-2-03_RET_023-370x370.jpg\n"
     ]
    }
   ],
   "source": [
    "import os\n",
    "\n",
    "def delete_files_with_pattern(folder_path, pattern):\n",
    "\n",
    "    files = os.listdir(folder_path)\n",
    "    \n",
    "    for file_name in files:\n",
    "        \n",
    "        if file_name.endswith(pattern):\n",
    "   \n",
    "            file_path = os.path.join(folder_path, file_name)\n",
    "          \n",
    "            os.remove(file_path)\n",
    "            print(f\"Deleted: {file_path}\")\n",
    "\n",
    "\n",
    "folder_path = 'all_images'\n",
    "\n",
    "pattern = '370x370.jpg'\n",
    "\n",
    "delete_files_with_pattern(folder_path, pattern)\n"
   ]
  },
  {
   "cell_type": "markdown",
   "id": "ac3a71e2",
   "metadata": {},
   "source": [
    "Chat-GPT 4 was utilised for checking and correcting mistakes"
   ]
  },
  {
   "cell_type": "code",
   "execution_count": null,
   "id": "d1081f4e",
   "metadata": {},
   "outputs": [],
   "source": []
  }
 ],
 "metadata": {
  "kernelspec": {
   "display_name": "Python 3 (ipykernel)",
   "language": "python",
   "name": "python3"
  },
  "language